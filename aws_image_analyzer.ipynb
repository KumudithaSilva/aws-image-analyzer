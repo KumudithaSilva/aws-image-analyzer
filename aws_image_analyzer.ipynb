{
  "nbformat": 4,
  "nbformat_minor": 0,
  "metadata": {
    "colab": {
      "provenance": [],
      "authorship_tag": "ABX9TyOXxuUkqnW7tVE0gXy/Wim9",
      "include_colab_link": true
    },
    "kernelspec": {
      "name": "python3",
      "display_name": "Python 3"
    },
    "language_info": {
      "name": "python"
    }
  },
  "cells": [
    {
      "cell_type": "markdown",
      "metadata": {
        "id": "view-in-github",
        "colab_type": "text"
      },
      "source": [
        "<a href=\"https://colab.research.google.com/github/KumudithaSilva/aws-image-analyzer/blob/master/aws_image_analyzer.ipynb\" target=\"_parent\"><img src=\"https://colab.research.google.com/assets/colab-badge.svg\" alt=\"Open In Colab\"/></a>"
      ]
    },
    {
      "cell_type": "code",
      "source": [
        "%pip install boto3"
      ],
      "metadata": {
        "id": "y2F5jwRbYLxx"
      },
      "execution_count": null,
      "outputs": []
    },
    {
      "cell_type": "markdown",
      "source": [
        "## Import Libraries"
      ],
      "metadata": {
        "id": "8hbKHd1WYkx-"
      }
    },
    {
      "cell_type": "code",
      "execution_count": null,
      "metadata": {
        "id": "j2XWl5fmXtBJ"
      },
      "outputs": [],
      "source": [
        "import boto3\n",
        "import getpass"
      ]
    },
    {
      "cell_type": "markdown",
      "source": [
        "### IAM Authetication"
      ],
      "metadata": {
        "id": "I0j0Oxt3Y016"
      }
    },
    {
      "cell_type": "code",
      "source": [
        "aws_access_key_id = getpass.getpass(\"Enter AWS Access Key ID: \")\n",
        "aws_secret_access_key = getpass.getpass(\"Enter AWS Secret Access Key: \")a"
      ],
      "metadata": {
        "colab": {
          "base_uri": "https://localhost:8080/"
        },
        "id": "Uo6ZkghmgVMf",
        "outputId": "5cc493e2-288b-4c71-9fbb-80c05dcfb2a2"
      },
      "execution_count": null,
      "outputs": [
        {
          "name": "stdout",
          "output_type": "stream",
          "text": [
            "Enter AWS Access Key ID: ··········\n",
            "Enter AWS Secret Access Key: ··········\n"
          ]
        }
      ]
    },
    {
      "cell_type": "code",
      "source": [
        "session = boto3.Session(\n",
        "    aws_access_key_id=aws_access_key_id,\n",
        "    aws_secret_access_key=aws_secret_access_key,\n",
        "    region_name='us-east-1'\n",
        ")"
      ],
      "metadata": {
        "id": "0FifT_pSbZM-"
      },
      "execution_count": null,
      "outputs": []
    },
    {
      "cell_type": "markdown",
      "source": [
        "### IAM Authroization"
      ],
      "metadata": {
        "id": "_gthcU5qfmlC"
      }
    },
    {
      "cell_type": "code",
      "source": [
        "def validate_aws_session(session):\n",
        "  try:\n",
        "    sts = session.client('sts')\n",
        "    identity = sts.get_caller_identity()\n",
        "    return True, identity['Arn']\n",
        "  except Exception as e:\n",
        "    return False, str (e)"
      ],
      "metadata": {
        "id": "szPS2wjdc68c"
      },
      "execution_count": null,
      "outputs": []
    },
    {
      "cell_type": "code",
      "source": [
        "valid, info = validate_aws_session(session)"
      ],
      "metadata": {
        "id": "bEWdtbWAfrkf"
      },
      "execution_count": null,
      "outputs": []
    },
    {
      "cell_type": "code",
      "source": [
        "if valid:\n",
        "  print(f\"✅ Valid session. ARN: {info}\")\n",
        "else:\n",
        "  print(f\"❌ Invalid session. Error: {info}\")"
      ],
      "metadata": {
        "colab": {
          "base_uri": "https://localhost:8080/"
        },
        "id": "_kcLdECBfyB3",
        "outputId": "b067cd89-df4d-4649-979a-b48a1078cc2f"
      },
      "execution_count": null,
      "outputs": [
        {
          "output_type": "stream",
          "name": "stdout",
          "text": [
            "❌ Invalid session. Error: An error occurred (InvalidClientTokenId) when calling the GetCallerIdentity operation: The security token included in the request is invalid.\n"
          ]
        }
      ]
    }
  ]
}