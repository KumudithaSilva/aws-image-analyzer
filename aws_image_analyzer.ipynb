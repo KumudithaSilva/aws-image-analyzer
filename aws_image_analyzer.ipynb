{
  "nbformat": 4,
  "nbformat_minor": 0,
  "metadata": {
    "colab": {
      "provenance": [],
      "authorship_tag": "ABX9TyO1vcn65A+GZ+Dp9X3w+2vm"
    },
    "kernelspec": {
      "name": "python3",
      "display_name": "Python 3"
    },
    "language_info": {
      "name": "python"
    }
  },
  "cells": [
    {
      "cell_type": "code",
      "source": [
        "%pip install boto3"
      ],
      "metadata": {
        "id": "y2F5jwRbYLxx",
        "colab": {
          "base_uri": "https://localhost:8080/"
        },
        "outputId": "589b785f-43ee-400d-ff1c-2bcce5f7ad36"
      },
      "execution_count": 19,
      "outputs": [
        {
          "output_type": "stream",
          "name": "stdout",
          "text": [
            "Requirement already satisfied: boto3 in /usr/local/lib/python3.11/dist-packages (1.38.39)\n",
            "Requirement already satisfied: botocore<1.39.0,>=1.38.39 in /usr/local/lib/python3.11/dist-packages (from boto3) (1.38.39)\n",
            "Requirement already satisfied: jmespath<2.0.0,>=0.7.1 in /usr/local/lib/python3.11/dist-packages (from boto3) (1.0.1)\n",
            "Requirement already satisfied: s3transfer<0.14.0,>=0.13.0 in /usr/local/lib/python3.11/dist-packages (from boto3) (0.13.0)\n",
            "Requirement already satisfied: python-dateutil<3.0.0,>=2.1 in /usr/local/lib/python3.11/dist-packages (from botocore<1.39.0,>=1.38.39->boto3) (2.9.0.post0)\n",
            "Requirement already satisfied: urllib3!=2.2.0,<3,>=1.25.4 in /usr/local/lib/python3.11/dist-packages (from botocore<1.39.0,>=1.38.39->boto3) (2.4.0)\n",
            "Requirement already satisfied: six>=1.5 in /usr/local/lib/python3.11/dist-packages (from python-dateutil<3.0.0,>=2.1->botocore<1.39.0,>=1.38.39->boto3) (1.17.0)\n"
          ]
        }
      ]
    },
    {
      "cell_type": "markdown",
      "source": [
        "### Import Libraries"
      ],
      "metadata": {
        "id": "8hbKHd1WYkx-"
      }
    },
    {
      "cell_type": "code",
      "execution_count": 18,
      "metadata": {
        "id": "j2XWl5fmXtBJ"
      },
      "outputs": [],
      "source": [
        "import boto3\n",
        "import getpass\n",
        "import requests"
      ]
    },
    {
      "cell_type": "markdown",
      "source": [
        "### IAM Authetication"
      ],
      "metadata": {
        "id": "I0j0Oxt3Y016"
      }
    },
    {
      "cell_type": "code",
      "source": [
        "aws_access_key_id = getpass.getpass(\"Enter AWS Access Key ID: \")\n",
        "aws_secret_access_key = getpass.getpass(\"Enter AWS Secret Access Key: \")"
      ],
      "metadata": {
        "colab": {
          "base_uri": "https://localhost:8080/"
        },
        "id": "Uo6ZkghmgVMf",
        "outputId": "bc16f823-3408-4edd-ec00-aaec0d484f53"
      },
      "execution_count": 5,
      "outputs": [
        {
          "name": "stdout",
          "output_type": "stream",
          "text": [
            "Enter AWS Access Key ID: ··········\n",
            "Enter AWS Secret Access Key: ··········\n"
          ]
        }
      ]
    },
    {
      "cell_type": "code",
      "source": [
        "session = boto3.Session(\n",
        "    aws_access_key_id=aws_access_key_id,\n",
        "    aws_secret_access_key=aws_secret_access_key,\n",
        "    region_name='us-east-1'\n",
        ")"
      ],
      "metadata": {
        "id": "0FifT_pSbZM-"
      },
      "execution_count": 6,
      "outputs": []
    },
    {
      "cell_type": "markdown",
      "source": [
        "### IAM Authroization"
      ],
      "metadata": {
        "id": "_gthcU5qfmlC"
      }
    },
    {
      "cell_type": "code",
      "source": [
        "def validate_aws_session(session):\n",
        "  try:\n",
        "    sts = session.client('sts')\n",
        "    identity = sts.get_caller_identity()\n",
        "    return True, identity['Arn']\n",
        "  except Exception as e:\n",
        "    return False, str (e)"
      ],
      "metadata": {
        "id": "szPS2wjdc68c"
      },
      "execution_count": 7,
      "outputs": []
    },
    {
      "cell_type": "code",
      "source": [
        "valid, info = validate_aws_session(session)"
      ],
      "metadata": {
        "id": "bEWdtbWAfrkf"
      },
      "execution_count": 8,
      "outputs": []
    },
    {
      "cell_type": "code",
      "source": [
        "if valid:\n",
        "  print(f\"✅ Valid session. ARN: {info}\")\n",
        "else:\n",
        "  print(f\"❌ Invalid session. Error: {info}\")"
      ],
      "metadata": {
        "colab": {
          "base_uri": "https://localhost:8080/"
        },
        "id": "_kcLdECBfyB3",
        "outputId": "b1e84e0c-0e8b-48a7-9a4c-8a8769d2a292"
      },
      "execution_count": 9,
      "outputs": [
        {
          "output_type": "stream",
          "name": "stdout",
          "text": [
            "✅ Valid session. ARN: arn:aws:iam::085762564340:user/rekognition-user\n"
          ]
        }
      ]
    },
    {
      "cell_type": "markdown",
      "source": [
        "### Rekognition Client"
      ],
      "metadata": {
        "id": "PA0CsijLVgEa"
      }
    },
    {
      "cell_type": "code",
      "source": [
        "rekognition = session.client(\"rekognition\")"
      ],
      "metadata": {
        "id": "MeLFwk9IVrOG"
      },
      "execution_count": 14,
      "outputs": []
    },
    {
      "cell_type": "markdown",
      "source": [
        "### Image Location"
      ],
      "metadata": {
        "id": "jX9UqOu9U19E"
      }
    },
    {
      "cell_type": "code",
      "source": [
        "url = \"https://images.unsplash.com/photo-1587831990711-23ca6441447b?q=80&w=1331&auto=format&fit=crop&ixlib=rb-4.1.0&ixid=M3wxMjA3fDB8MHxwaG90by1wYWdlfHx8fGVufDB8fHx8fA%3D%3D\""
      ],
      "metadata": {
        "id": "e0My_8UIU4eK"
      },
      "execution_count": 47,
      "outputs": []
    },
    {
      "cell_type": "markdown",
      "source": [
        "### Convert Image To Bytes"
      ],
      "metadata": {
        "id": "rPwvc9wOX-9k"
      }
    },
    {
      "cell_type": "code",
      "source": [
        "def convert_to_bytes(url):\n",
        "  response = requests.get(url)\n",
        "  response.raise_for_status()\n",
        "  return response.content"
      ],
      "metadata": {
        "id": "XvqQqnY7YKh8"
      },
      "execution_count": 40,
      "outputs": []
    },
    {
      "cell_type": "code",
      "source": [
        "response = convert_to_bytes(url)"
      ],
      "metadata": {
        "id": "n_km6VXUaT_Y"
      },
      "execution_count": 48,
      "outputs": []
    },
    {
      "cell_type": "markdown",
      "source": [
        "### Analyze The Image"
      ],
      "metadata": {
        "id": "7aN3IDT-bWJC"
      }
    },
    {
      "cell_type": "code",
      "source": [
        "image_details = rekognition.detect_labels(\n",
        "    Image={\n",
        "        'Bytes': response\n",
        "    },\n",
        "    MaxLabels = 3,\n",
        "    MinConfidence=75\n",
        ")"
      ],
      "metadata": {
        "id": "jx0muZZFbZ5C"
      },
      "execution_count": 65,
      "outputs": []
    },
    {
      "cell_type": "code",
      "source": [
        "image_details"
      ],
      "metadata": {
        "colab": {
          "base_uri": "https://localhost:8080/"
        },
        "id": "WLLNP3uIch5z",
        "outputId": "eb77f62a-4471-4cc8-ba22-048ea548132a"
      },
      "execution_count": 66,
      "outputs": [
        {
          "output_type": "execute_result",
          "data": {
            "text/plain": [
              "{'Labels': [{'Name': 'Pc',\n",
              "   'Confidence': 99.97151184082031,\n",
              "   'Instances': [],\n",
              "   'Parents': [{'Name': 'Computer'}, {'Name': 'Electronics'}],\n",
              "   'Aliases': [],\n",
              "   'Categories': [{'Name': 'Technology and Computing'}]},\n",
              "  {'Name': 'Table',\n",
              "   'Confidence': 99.96707153320312,\n",
              "   'Instances': [],\n",
              "   'Parents': [{'Name': 'Furniture'}],\n",
              "   'Aliases': [],\n",
              "   'Categories': [{'Name': 'Furniture and Furnishings'}]},\n",
              "  {'Name': 'Speaker',\n",
              "   'Confidence': 99.8814468383789,\n",
              "   'Instances': [{'BoundingBox': {'Width': 0.05378091335296631,\n",
              "      'Height': 0.18546131253242493,\n",
              "      'Left': 0.7532327771186829,\n",
              "      'Top': 0.48751652240753174},\n",
              "     'Confidence': 99.8814468383789},\n",
              "    {'BoundingBox': {'Width': 0.04545913264155388,\n",
              "      'Height': 0.27821946144104004,\n",
              "      'Left': 0.6795786619186401,\n",
              "      'Top': 0.357394278049469},\n",
              "     'Confidence': 99.66566467285156},\n",
              "    {'BoundingBox': {'Width': 0.04362501576542854,\n",
              "      'Height': 0.19955037534236908,\n",
              "      'Left': 0.0953187644481659,\n",
              "      'Top': 0.4226416349411011},\n",
              "     'Confidence': 96.19014739990234}],\n",
              "   'Parents': [{'Name': 'Electronics'}],\n",
              "   'Aliases': [{'Name': 'Audio Speaker'}],\n",
              "   'Categories': [{'Name': 'Technology and Computing'}]}],\n",
              " 'LabelModelVersion': '3.0',\n",
              " 'ResponseMetadata': {'RequestId': '2bd08598-f8b0-45cf-96e2-5f6d7d6a0df4',\n",
              "  'HTTPStatusCode': 200,\n",
              "  'HTTPHeaders': {'x-amzn-requestid': '2bd08598-f8b0-45cf-96e2-5f6d7d6a0df4',\n",
              "   'content-type': 'application/x-amz-json-1.1',\n",
              "   'content-length': '1034',\n",
              "   'date': 'Thu, 19 Jun 2025 18:32:41 GMT'},\n",
              "  'RetryAttempts': 0}}"
            ]
          },
          "metadata": {},
          "execution_count": 66
        }
      ]
    },
    {
      "cell_type": "code",
      "source": [
        "print(f'Main Image : {image_details[\"Labels\"][0][\"Name\"]}')\n",
        "print(f'Second Image : {image_details[\"Labels\"][1][\"Name\"]}')\n",
        "print(f'Third Image : {image_details[\"Labels\"][2][\"Name\"]}')"
      ],
      "metadata": {
        "colab": {
          "base_uri": "https://localhost:8080/"
        },
        "id": "xy-n2V8_cjZM",
        "outputId": "854d80ca-a314-42e6-dd01-9573411725c1"
      },
      "execution_count": 67,
      "outputs": [
        {
          "output_type": "stream",
          "name": "stdout",
          "text": [
            "Main Image : Pc\n",
            "Second Image : Table\n",
            "Third Image : Speaker\n"
          ]
        }
      ]
    }
  ]
}